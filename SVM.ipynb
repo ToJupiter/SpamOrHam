{
 "cells": [
  {
   "cell_type": "code",
   "execution_count": null,
   "metadata": {},
   "outputs": [],
   "source": [
    "import torch\n",
    "import sklearn\n",
    "import pandas as pd\n",
    "import csv"
   ]
  },
  {
   "cell_type": "code",
   "execution_count": null,
   "metadata": {},
   "outputs": [],
   "source": [
    "SpamHam = pd.read_csv('spam_ham_dataset.csv')\n",
    "SpamHam.head(5)"
   ]
  },
  {
   "cell_type": "code",
   "execution_count": null,
   "metadata": {},
   "outputs": [],
   "source": [
    "import re\n",
    "import numpy as np\n",
    "from sklearn.model_selection import train_test_split\n",
    "from sklearn.metrics import classification_report, accuracy_score\n",
    "\n",
    "\n",
    "def clean_text(text):\n",
    "    text = text.lower()\n",
    "    text = re.sub(r'[^a-z\\s]', '', text)\n",
    "    text = re.sub(r'\\s+', ' ', text).strip()\n",
    "    return text\n",
    "\n",
    "SpamHam['clean_text'] = SpamHam['text'].apply(clean_text)\n",
    "SpamHam['clean_text'].head(5)\n"
   ]
  },
  {
   "cell_type": "code",
   "execution_count": null,
   "metadata": {},
   "outputs": [],
   "source": [
    "def create_vocab(texts):\n",
    "    vocab = set()\n",
    "    for text in texts:\n",
    "        words = text.split()\n",
    "        vocab.update(words)\n",
    "    return {word: idx for idx, word in enumerate(sorted(vocab))}\n",
    "\n",
    "def text_to_bow(text, vocab):\n",
    "    vector = torch.zeros(len(vocab))\n",
    "    for word in text.split():\n",
    "        if word in vocab:\n",
    "            vector[vocab[word]] += 1\n",
    "    return vector\n",
    "\n",
    "vocabulary = create_vocab(SpamHam['clean_text'])\n",
    "X = torch.stack([text_to_bow(text, vocabulary) for text in SpamHam['clean_text']])\n",
    "y = torch.tensor(SpamHam['label_num'].values)\n"
   ]
  },
  {
   "cell_type": "code",
   "execution_count": null,
   "metadata": {},
   "outputs": [],
   "source": [
    "class SVM(torch.nn.Module):\n",
    "    def __init__(self, input_dim):\n",
    "        super(SVM, self).__init__()\n",
    "        self.linear = torch.nn.Linear(input_dim, 1)\n",
    "    \n",
    "    def forward(self, x):\n",
    "        return self.linear(x)\n",
    "\n",
    "# Split the data\n",
    "X_train, X_test, y_train, y_test = train_test_split(X, y, test_size=0.2, random_state=42)\n",
    "\n",
    "# Initialize model, loss, and optimizer\n",
    "model = SVM(X.shape[1])\n",
    "criterion = torch.nn.HingeLoss()\n",
    "optimizer = torch.optim.SGD(model.parameters(), lr=0.01)\n",
    "\n",
    "# Training loop\n",
    "num_epochs = 100\n",
    "for epoch in range(num_epochs):\n",
    "    # Forward pass\n",
    "    outputs = model(X_train).squeeze()\n",
    "    y_train_normalized = 2 * y_train.float() - 1  # Convert to -1 and 1\n",
    "    \n",
    "    # Calculate loss\n",
    "    loss = criterion(outputs, y_train_normalized)\n",
    "    \n",
    "    # Backward pass and optimize\n",
    "    optimizer.zero_grad()\n",
    "    loss.backward()\n",
    "    optimizer.step()\n",
    "    \n",
    "    if (epoch + 1) % 10 == 0:\n",
    "        print(f'Epoch [{epoch+1}/{num_epochs}], Loss: {loss.item():.4f}')"
   ]
  },
  {
   "cell_type": "code",
   "execution_count": null,
   "metadata": {},
   "outputs": [],
   "source": [
    "# Evaluation\n",
    "model.eval()\n",
    "with torch.no_grad():\n",
    "    test_outputs = model(X_test).squeeze()\n",
    "    predicted = (test_outputs > 0).float()\n",
    "    \n",
    "    print(\"Accuracy:\", accuracy_score(y_test, predicted))\n",
    "    print(\"\\nClassification Report:\")\n",
    "    print(classification_report(y_test, predicted))"
   ]
  }
 ],
 "metadata": {
  "kernelspec": {
   "display_name": "ml_env",
   "language": "python",
   "name": "python3"
  },
  "language_info": {
   "name": "python",
   "version": "3.10.13"
  }
 },
 "nbformat": 4,
 "nbformat_minor": 2
}
